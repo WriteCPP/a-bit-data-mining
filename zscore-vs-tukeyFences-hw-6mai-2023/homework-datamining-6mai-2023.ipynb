{
 "cells": [
  {
   "cell_type": "code",
   "execution_count": 17,
   "id": "37fc7303",
   "metadata": {},
   "outputs": [],
   "source": [
    "import pandas as pd\n",
    "my_data=pd.read_csv('data_a.csv', delimiter = ',')"
   ]
  },
  {
   "cell_type": "code",
   "execution_count": 17,
   "id": "676eec9d",
   "metadata": {},
   "outputs": [
    {
     "data": {
      "text/html": [
       "<div>\n",
       "<style scoped>\n",
       "    .dataframe tbody tr th:only-of-type {\n",
       "        vertical-align: middle;\n",
       "    }\n",
       "\n",
       "    .dataframe tbody tr th {\n",
       "        vertical-align: top;\n",
       "    }\n",
       "\n",
       "    .dataframe thead th {\n",
       "        text-align: right;\n",
       "    }\n",
       "</style>\n",
       "<table border=\"1\" class=\"dataframe\">\n",
       "  <thead>\n",
       "    <tr style=\"text-align: right;\">\n",
       "      <th></th>\n",
       "      <th>PlayerId</th>\n",
       "      <th>PlayerName</th>\n",
       "      <th>PlayerMoney</th>\n",
       "      <th>PlayerLevel</th>\n",
       "      <th>PlayerPosX</th>\n",
       "      <th>PlayerPosY</th>\n",
       "      <th>PlayerPosZ</th>\n",
       "      <th>PlayerFriends</th>\n",
       "    </tr>\n",
       "  </thead>\n",
       "  <tbody>\n",
       "    <tr>\n",
       "      <th>0</th>\n",
       "      <td>1</td>\n",
       "      <td>Alex</td>\n",
       "      <td>2000</td>\n",
       "      <td>139</td>\n",
       "      <td>10.2000</td>\n",
       "      <td>6.00</td>\n",
       "      <td>-99.00</td>\n",
       "      <td>26</td>\n",
       "    </tr>\n",
       "    <tr>\n",
       "      <th>1</th>\n",
       "      <td>2</td>\n",
       "      <td>Max</td>\n",
       "      <td>100</td>\n",
       "      <td>56</td>\n",
       "      <td>0.0000</td>\n",
       "      <td>0.00</td>\n",
       "      <td>0.00</td>\n",
       "      <td>10</td>\n",
       "    </tr>\n",
       "    <tr>\n",
       "      <th>2</th>\n",
       "      <td>3</td>\n",
       "      <td>John</td>\n",
       "      <td>15</td>\n",
       "      <td>10</td>\n",
       "      <td>10.6645</td>\n",
       "      <td>59.44</td>\n",
       "      <td>0.00</td>\n",
       "      <td>50</td>\n",
       "    </tr>\n",
       "    <tr>\n",
       "      <th>3</th>\n",
       "      <td>4</td>\n",
       "      <td>Ali</td>\n",
       "      <td>150</td>\n",
       "      <td>119</td>\n",
       "      <td>78.0100</td>\n",
       "      <td>11.00</td>\n",
       "      <td>26.00</td>\n",
       "      <td>2</td>\n",
       "    </tr>\n",
       "    <tr>\n",
       "      <th>4</th>\n",
       "      <td>5</td>\n",
       "      <td>Jack</td>\n",
       "      <td>63</td>\n",
       "      <td>21</td>\n",
       "      <td>44.0000</td>\n",
       "      <td>44.00</td>\n",
       "      <td>44.00</td>\n",
       "      <td>1</td>\n",
       "    </tr>\n",
       "    <tr>\n",
       "      <th>5</th>\n",
       "      <td>6</td>\n",
       "      <td>Laura</td>\n",
       "      <td>47</td>\n",
       "      <td>3</td>\n",
       "      <td>509.4600</td>\n",
       "      <td>800.20</td>\n",
       "      <td>689.10</td>\n",
       "      <td>1</td>\n",
       "    </tr>\n",
       "    <tr>\n",
       "      <th>6</th>\n",
       "      <td>7</td>\n",
       "      <td>Peter</td>\n",
       "      <td>0</td>\n",
       "      <td>21</td>\n",
       "      <td>446.0000</td>\n",
       "      <td>13.00</td>\n",
       "      <td>159.97</td>\n",
       "      <td>1</td>\n",
       "    </tr>\n",
       "    <tr>\n",
       "      <th>7</th>\n",
       "      <td>8</td>\n",
       "      <td>Albin</td>\n",
       "      <td>2136</td>\n",
       "      <td>13</td>\n",
       "      <td>10.6500</td>\n",
       "      <td>990.20</td>\n",
       "      <td>0.00</td>\n",
       "      <td>3</td>\n",
       "    </tr>\n",
       "    <tr>\n",
       "      <th>8</th>\n",
       "      <td>9</td>\n",
       "      <td>Mohammad</td>\n",
       "      <td>46</td>\n",
       "      <td>60</td>\n",
       "      <td>1060.0000</td>\n",
       "      <td>100.00</td>\n",
       "      <td>100.00</td>\n",
       "      <td>6</td>\n",
       "    </tr>\n",
       "    <tr>\n",
       "      <th>9</th>\n",
       "      <td>10</td>\n",
       "      <td>Jang</td>\n",
       "      <td>200</td>\n",
       "      <td>20</td>\n",
       "      <td>5.5000</td>\n",
       "      <td>648.60</td>\n",
       "      <td>44.10</td>\n",
       "      <td>1</td>\n",
       "    </tr>\n",
       "  </tbody>\n",
       "</table>\n",
       "</div>"
      ],
      "text/plain": [
       "   PlayerId PlayerName  PlayerMoney  PlayerLevel  PlayerPosX  PlayerPosY   \n",
       "0         1       Alex         2000          139     10.2000        6.00  \\\n",
       "1         2        Max          100           56      0.0000        0.00   \n",
       "2         3       John           15           10     10.6645       59.44   \n",
       "3         4        Ali          150          119     78.0100       11.00   \n",
       "4         5       Jack           63           21     44.0000       44.00   \n",
       "5         6      Laura           47            3    509.4600      800.20   \n",
       "6         7      Peter            0           21    446.0000       13.00   \n",
       "7         8      Albin         2136           13     10.6500      990.20   \n",
       "8         9   Mohammad           46           60   1060.0000      100.00   \n",
       "9        10       Jang          200           20      5.5000      648.60   \n",
       "\n",
       "   PlayerPosZ  PlayerFriends  \n",
       "0      -99.00             26  \n",
       "1        0.00             10  \n",
       "2        0.00             50  \n",
       "3       26.00              2  \n",
       "4       44.00              1  \n",
       "5      689.10              1  \n",
       "6      159.97              1  \n",
       "7        0.00              3  \n",
       "8      100.00              6  \n",
       "9       44.10              1  "
      ]
     },
     "execution_count": 17,
     "metadata": {},
     "output_type": "execute_result"
    }
   ],
   "source": [
    "my_data"
   ]
  },
  {
   "cell_type": "code",
   "execution_count": 17,
   "id": "e3658597",
   "metadata": {},
   "outputs": [],
   "source": [
    "import scipy.stats as stats"
   ]
  },
  {
   "cell_type": "code",
   "execution_count": 18,
   "id": "79c579eb",
   "metadata": {},
   "outputs": [],
   "source": [
    "zscores = stats.zscore(my_data['PlayerMoney'])"
   ]
  },
  {
   "cell_type": "code",
   "execution_count": 19,
   "id": "151b9e7e",
   "metadata": {
    "scrolled": true
   },
   "outputs": [
    {
     "data": {
      "text/plain": [
       "0    1.908268\n",
       "1   -0.470338\n",
       "2   -0.576749\n",
       "3   -0.407743\n",
       "4   -0.516658\n",
       "5   -0.536689\n",
       "6   -0.595528\n",
       "7    2.078526\n",
       "8   -0.537941\n",
       "9   -0.345148\n",
       "Name: PlayerMoney, dtype: float64"
      ]
     },
     "execution_count": 19,
     "metadata": {},
     "output_type": "execute_result"
    }
   ],
   "source": [
    "zscores"
   ]
  },
  {
   "cell_type": "code",
   "execution_count": 20,
   "id": "2459380d",
   "metadata": {},
   "outputs": [],
   "source": [
    "mean = sum(my_data['PlayerMoney']) / len(my_data['PlayerMoney'])"
   ]
  },
  {
   "cell_type": "code",
   "execution_count": 21,
   "id": "ca3c70ae",
   "metadata": {},
   "outputs": [],
   "source": [
    "differences = [(my_data['PlayerMoney'] - mean)**2 for value in my_data['PlayerMoney']]"
   ]
  },
  {
   "cell_type": "code",
   "execution_count": 22,
   "id": "27816d5f",
   "metadata": {},
   "outputs": [],
   "source": [
    "sum_of_differences = sum(differences)"
   ]
  },
  {
   "cell_type": "code",
   "execution_count": 23,
   "id": "8cd74d9b",
   "metadata": {},
   "outputs": [],
   "source": [
    "standard_deviation = (sum_of_differences / (len(my_data['PlayerMoney']) - 1)) ** 0.5"
   ]
  },
  {
   "cell_type": "code",
   "execution_count": 24,
   "id": "65953a98",
   "metadata": {},
   "outputs": [
    {
     "name": "stdout",
     "output_type": "stream",
     "text": [
      "0    1606.753279\n",
      "1     396.022572\n",
      "2     485.620439\n",
      "3     343.317945\n",
      "4     435.023997\n",
      "5     451.889478\n",
      "6     501.431828\n",
      "7    1750.109866\n",
      "8     452.943570\n",
      "9     290.613317\n",
      "Name: PlayerMoney, dtype: float64\n"
     ]
    }
   ],
   "source": [
    "print(standard_deviation)"
   ]
  },
  {
   "cell_type": "code",
   "execution_count": 26,
   "id": "416fadac",
   "metadata": {},
   "outputs": [],
   "source": [
    "def calculateZscore(values):\n",
    "    print('z-score:')\n",
    "    mean = sum(values) / len(values)\n",
    "    differences = [(value - mean)**2 for value in values]\n",
    "    sum_of_differences = sum(differences)\n",
    "    standard_deviation = (sum_of_differences / (len(values) - 1)) ** 0.5\n",
    "    print(standard_deviation)"
   ]
  },
  {
   "cell_type": "code",
   "execution_count": 42,
   "id": "f6eaeb1f",
   "metadata": {
    "scrolled": true
   },
   "outputs": [
    {
     "name": "stdout",
     "output_type": "stream",
     "text": [
      "workin on : \n",
      "z-score:\n"
     ]
    },
    {
     "ename": "TypeError",
     "evalue": "'numpy.int64' object is not iterable",
     "output_type": "error",
     "traceback": [
      "\u001b[1;31m---------------------------------------------------------------------------\u001b[0m",
      "\u001b[1;31mTypeError\u001b[0m                                 Traceback (most recent call last)",
      "Cell \u001b[1;32mIn[42], line 5\u001b[0m\n\u001b[0;32m      3\u001b[0m result\u001b[38;5;241m=\u001b[39m[]\n\u001b[0;32m      4\u001b[0m \u001b[38;5;28;01mfor\u001b[39;00m x \u001b[38;5;129;01min\u001b[39;00m \u001b[38;5;28mrange\u001b[39m(my_data\u001b[38;5;241m.\u001b[39mshape[\u001b[38;5;241m0\u001b[39m]\u001b[38;5;241m-\u001b[39m\u001b[38;5;241m1\u001b[39m):\n\u001b[1;32m----> 5\u001b[0m     \u001b[38;5;28;01mif\u001b[39;00m val \u001b[38;5;241m>\u001b[39m \u001b[43mcalculateZscore\u001b[49m\u001b[43m(\u001b[49m\u001b[43mmy_data\u001b[49m\u001b[43m[\u001b[49m\u001b[38;5;124;43m'\u001b[39;49m\u001b[38;5;124;43mPlayerLevel\u001b[39;49m\u001b[38;5;124;43m'\u001b[39;49m\u001b[43m]\u001b[49m\u001b[43m[\u001b[49m\u001b[43mx\u001b[49m\u001b[43m]\u001b[49m\u001b[43m)\u001b[49m \u001b[38;5;129;01mor\u001b[39;00m val \u001b[38;5;241m<\u001b[39m calculateZscore(my_data[\u001b[38;5;124m'\u001b[39m\u001b[38;5;124mPlayerLevel\u001b[39m\u001b[38;5;124m'\u001b[39m][x]):\n\u001b[0;32m      6\u001b[0m         \u001b[38;5;28mprint\u001b[39m(\u001b[38;5;124m'\u001b[39m\u001b[38;5;124mdata ignored.\u001b[39m\u001b[38;5;124m'\u001b[39m)\n\u001b[0;32m      7\u001b[0m     \u001b[38;5;28;01melse\u001b[39;00m:\n",
      "Cell \u001b[1;32mIn[26], line 3\u001b[0m, in \u001b[0;36mcalculateZscore\u001b[1;34m(values)\u001b[0m\n\u001b[0;32m      1\u001b[0m \u001b[38;5;28;01mdef\u001b[39;00m \u001b[38;5;21mcalculateZscore\u001b[39m(values):\n\u001b[0;32m      2\u001b[0m     \u001b[38;5;28mprint\u001b[39m(\u001b[38;5;124m'\u001b[39m\u001b[38;5;124mz-score:\u001b[39m\u001b[38;5;124m'\u001b[39m)\n\u001b[1;32m----> 3\u001b[0m     mean \u001b[38;5;241m=\u001b[39m \u001b[38;5;28;43msum\u001b[39;49m\u001b[43m(\u001b[49m\u001b[43mvalues\u001b[49m\u001b[43m)\u001b[49m \u001b[38;5;241m/\u001b[39m \u001b[38;5;28mlen\u001b[39m(values)\n\u001b[0;32m      4\u001b[0m     differences \u001b[38;5;241m=\u001b[39m [(value \u001b[38;5;241m-\u001b[39m mean)\u001b[38;5;241m*\u001b[39m\u001b[38;5;241m*\u001b[39m\u001b[38;5;241m2\u001b[39m \u001b[38;5;28;01mfor\u001b[39;00m value \u001b[38;5;129;01min\u001b[39;00m values]\n\u001b[0;32m      5\u001b[0m     sum_of_differences \u001b[38;5;241m=\u001b[39m \u001b[38;5;28msum\u001b[39m(differences)\n",
      "\u001b[1;31mTypeError\u001b[0m: 'numpy.int64' object is not iterable"
     ]
    }
   ],
   "source": [
    "for val in my_data[\"PlayerLevel\"]:\n",
    "    print('workin on : ')\n",
    "    result=[]\n",
    "    for x in range(my_data.shape[0]-1):\n",
    "        if val > calculateZscore(my_data['PlayerLevel'][x]) or val < calculateZscore(my_data['PlayerLevel'][x]):\n",
    "            print('data ignored.')\n",
    "        else:\n",
    "            result.append(v)   "
   ]
  },
  {
   "cell_type": "code",
   "execution_count": 16,
   "id": "2bf189e3",
   "metadata": {},
   "outputs": [],
   "source": [
    "def calculateZscore(values):\n",
    "    print('z-score:')\n",
    "    mean = sum(values) / len(values)\n",
    "    differences = [(value - mean)**2 for value in values]\n",
    "    sum_of_differences = sum(differences)\n",
    "    standard_deviation = (sum_of_differences / (len(values) - 1)) ** 0.5\n",
    "    return int(standard_deviation)"
   ]
  },
  {
   "cell_type": "code",
   "execution_count": 17,
   "id": "35d9ef03",
   "metadata": {
    "scrolled": true
   },
   "outputs": [
    {
     "name": "stdout",
     "output_type": "stream",
     "text": [
      "z-score:\n",
      "47\n"
     ]
    }
   ],
   "source": [
    "print(calculateZscore(my_data['PlayerLevel']))"
   ]
  },
  {
   "cell_type": "code",
   "execution_count": 18,
   "id": "ddce5c51",
   "metadata": {},
   "outputs": [
    {
     "data": {
      "text/plain": [
       "(10, 8)"
      ]
     },
     "execution_count": 18,
     "metadata": {},
     "output_type": "execute_result"
    }
   ],
   "source": [
    "my_data.shape"
   ]
  },
  {
   "cell_type": "code",
   "execution_count": 21,
   "id": "de51282f",
   "metadata": {},
   "outputs": [
    {
     "data": {
      "text/plain": [
       "10"
      ]
     },
     "execution_count": 21,
     "metadata": {},
     "output_type": "execute_result"
    }
   ],
   "source": [
    "my_data.shape[0]"
   ]
  },
  {
   "cell_type": "code",
   "execution_count": 97,
   "id": "ca5253dd",
   "metadata": {
    "scrolled": false
   },
   "outputs": [],
   "source": [
    "### some code by https://datagy.io/python-z-score/\n",
    "def zscore_denoising_way():\n",
    "    col_header = ['PlayerMoney','PlayerLevel','PlayerFriends'] ### my_data[0:0]            'PlayerId', 'PlayerName', 'PlayerPosX','PlayerPosY','PlayerPosZ',\n",
    "    main_listed_data = [] ## to save data as list\n",
    "    noise_list = [] ## to list save noises\n",
    "    zscores = [] ## to save zscores of each row\n",
    "\n",
    "    def calculateZscore(values):\n",
    "        mean = sum(values) / len(values)\n",
    "        differences = [(value - mean)**2 for value in values]\n",
    "        sum_of_differences = sum(differences)\n",
    "        standard_deviation = (sum_of_differences / (len(values) - 1)) ** 0.5\n",
    "        return int(standard_deviation)\n",
    "\n",
    "\n",
    "    def iHatePython():\n",
    "        for x in range(len(col_header)): ##(my_data.shape[1])\n",
    "            ### print(\"zscore col \" , x, \"=\", calculateZscore(my_data[col_header[x]]), \"header-title=\",col_header[x])\n",
    "            temp_list = []\n",
    "            for y in range(my_data.shape[0]):\n",
    "                temp_list.append(my_data[col_header[x]][y])\n",
    "                ### check for missing values, NaN -> 0  ||  a default value\n",
    "            main_listed_data.append(temp_list)\n",
    "\n",
    "    def removeNoieses():\n",
    "        print(\"----------------- lets find nosises\\n\")\n",
    "        for x in range(len(col_header)):\n",
    "            temp_noise_list = []\n",
    "            for y in range(my_data.shape[0]):\n",
    "                r_data = my_data[col_header[x]][y]\n",
    "                if r_data > zscores[x] or r_data < -abs(zscores[x]):\n",
    "                    print(\"noise founded. value = \" , r_data, \" zscore= \", zscores[x])\n",
    "                    temp_noise_list.append(r_data)\n",
    "            noise_list.append(temp_noise_list)\n",
    "\n",
    "    iHatePython()\n",
    "\n",
    "    ### import scipy.stats as stats\n",
    "    ### print(\"\\n\\n\\ndata =\" , main_listed_data, \"\\n\\n\\n\")        \n",
    "    for value in main_listed_data:\n",
    "        ### print(\"zscore = \" , stats.zscore(value))\n",
    "        ### print(\"min = \",min(stats.zscore(value)))\n",
    "        ### print(\"max = \",max(stats.zscore(value)))\n",
    "        zscore =  calculateZscore(value)\n",
    "        print(\"zscore by function= \" ,zscore , \" reversed=\" , -abs(zscore))        \n",
    "        zscores.append(zscore)\n",
    "\n",
    "    removeNoieses()\n",
    "    print(\"zscores are \" ,zscores)\n",
    "    print(\"noise_list=\",noise_list)"
   ]
  },
  {
   "cell_type": "code",
   "execution_count": 98,
   "id": "5df7ad59",
   "metadata": {},
   "outputs": [
    {
     "name": "stdout",
     "output_type": "stream",
     "text": [
      "zscore by function=  841  reversed= -841\n",
      "zscore by function=  47  reversed= -47\n",
      "zscore by function=  16  reversed= -16\n",
      "----------------- lets find nosises\n",
      "\n",
      "noise founded. value =  2000  zscore=  841\n",
      "noise founded. value =  2136  zscore=  841\n",
      "noise founded. value =  139  zscore=  47\n",
      "noise founded. value =  56  zscore=  47\n",
      "noise founded. value =  119  zscore=  47\n",
      "noise founded. value =  60  zscore=  47\n",
      "noise founded. value =  26  zscore=  16\n",
      "noise founded. value =  50  zscore=  16\n",
      "zscores are  [841, 47, 16]\n",
      "noise_list= [[2000, 2136], [139, 56, 119, 60], [26, 50]]\n"
     ]
    }
   ],
   "source": [
    "zscore_denoising_way()"
   ]
  },
  {
   "cell_type": "code",
   "execution_count": 56,
   "id": "97bc7b65",
   "metadata": {},
   "outputs": [],
   "source": [
    "def tuekyFences_denoising_way():\n",
    "    col_header = ['PlayerMoney','PlayerLevel','PlayerFriends'] ### my_data[0:0]            'PlayerId', 'PlayerName', 'PlayerPosX','PlayerPosY','PlayerPosZ',\n",
    "    noise_list = [] ## to list save noises\n",
    "    xp_number=1.5\n",
    "\n",
    "    def iHatePython():\n",
    "        for x in range(len(col_header)): ##(my_data.shape[1])\n",
    "            local_noise_list= []\n",
    "            for y in range(my_data.shape[0]):\n",
    "                        ### check for missing values, NaN -> 0  ||  a default value\n",
    "                        q1= my_data[col_header[x]].describe().quantile(.25)\n",
    "                        q2= my_data[col_header[x]].describe().quantile(.50)\n",
    "                        q3= my_data[col_header[x]].describe().quantile(.70)\n",
    "                        local_iqr = q3-q1\n",
    "                        lb=int(q1-(local_iqr*xp_number))\n",
    "                        ub=int(q3+(local_iqr*xp_number))\n",
    "                        r_data =my_data[col_header[x]][y]\n",
    "                        if r_data > lb or r_data > ub:\n",
    "                            print(\"noise foundd. data=\", r_data , \" ub=\" , ub, \"lb=\" , lb)\n",
    "                            local_noise_list.append(r_data)\n",
    "            noise_list.append(local_noise_list)\n",
    "                     \n",
    "    iHatePython()\n",
    "    print(\"noiese are : \"  ,noise_list )"
   ]
  },
  {
   "cell_type": "code",
   "execution_count": 57,
   "id": "73b52cfb",
   "metadata": {
    "scrolled": true
   },
   "outputs": [
    {
     "name": "stdout",
     "output_type": "stream",
     "text": [
      "noise foundd. data= 2000  ub= 1061 lb= -577\n",
      "noise foundd. data= 100  ub= 1061 lb= -577\n",
      "noise foundd. data= 15  ub= 1061 lb= -577\n",
      "noise foundd. data= 150  ub= 1061 lb= -577\n",
      "noise foundd. data= 63  ub= 1061 lb= -577\n",
      "noise foundd. data= 47  ub= 1061 lb= -577\n",
      "noise foundd. data= 0  ub= 1061 lb= -577\n",
      "noise foundd. data= 2136  ub= 1061 lb= -577\n",
      "noise foundd. data= 46  ub= 1061 lb= -577\n",
      "noise foundd. data= 200  ub= 1061 lb= -577\n",
      "noise foundd. data= 139  ub= 98 lb= -37\n",
      "noise foundd. data= 56  ub= 98 lb= -37\n",
      "noise foundd. data= 10  ub= 98 lb= -37\n",
      "noise foundd. data= 119  ub= 98 lb= -37\n",
      "noise foundd. data= 21  ub= 98 lb= -37\n",
      "noise foundd. data= 3  ub= 98 lb= -37\n",
      "noise foundd. data= 21  ub= 98 lb= -37\n",
      "noise foundd. data= 13  ub= 98 lb= -37\n",
      "noise foundd. data= 60  ub= 98 lb= -37\n",
      "noise foundd. data= 20  ub= 98 lb= -37\n",
      "noise foundd. data= 26  ub= 22 lb= -9\n",
      "noise foundd. data= 10  ub= 22 lb= -9\n",
      "noise foundd. data= 50  ub= 22 lb= -9\n",
      "noise foundd. data= 2  ub= 22 lb= -9\n",
      "noise foundd. data= 1  ub= 22 lb= -9\n",
      "noise foundd. data= 1  ub= 22 lb= -9\n",
      "noise foundd. data= 1  ub= 22 lb= -9\n",
      "noise foundd. data= 3  ub= 22 lb= -9\n",
      "noise foundd. data= 6  ub= 22 lb= -9\n",
      "noise foundd. data= 1  ub= 22 lb= -9\n",
      "noiese are :  [[2000, 100, 15, 150, 63, 47, 0, 2136, 46, 200], [139, 56, 10, 119, 21, 3, 21, 13, 60, 20], [26, 10, 50, 2, 1, 1, 1, 3, 6, 1]]\n"
     ]
    }
   ],
   "source": [
    "tuekyFences_denoising_way()"
   ]
  },
  {
   "cell_type": "code",
   "execution_count": null,
   "id": "f11229be",
   "metadata": {},
   "outputs": [],
   "source": []
  }
 ],
 "metadata": {
  "kernelspec": {
   "display_name": "Python 3 (ipykernel)",
   "language": "python",
   "name": "python3"
  },
  "language_info": {
   "codemirror_mode": {
    "name": "ipython",
    "version": 3
   },
   "file_extension": ".py",
   "mimetype": "text/x-python",
   "name": "python",
   "nbconvert_exporter": "python",
   "pygments_lexer": "ipython3",
   "version": "3.11.3"
  }
 },
 "nbformat": 4,
 "nbformat_minor": 5
}
